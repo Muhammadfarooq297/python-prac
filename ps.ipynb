{
 "cells": [
  {
   "cell_type": "markdown",
   "metadata": {},
   "source": [
    "1. Python program to check if a number is even or odd:"
   ]
  },
  {
   "cell_type": "code",
   "execution_count": 3,
   "metadata": {},
   "outputs": [
    {
     "name": "stdout",
     "output_type": "stream",
     "text": [
      "Odd\n"
     ]
    }
   ],
   "source": [
    "def check_even_odd(number):\n",
    "   if number % 2 ==0:\n",
    "      return \"Even\"\n",
    "   else:\n",
    "      return \"Odd\"\n",
    "\n",
    "number =int(input(\"Enter a number: \"))\n",
    "result =check_even_odd(number)\n",
    "print(result)"
   ]
  },
  {
   "cell_type": "markdown",
   "metadata": {},
   "source": [
    "2. Python program to find the factorial of a number."
   ]
  },
  {
   "cell_type": "code",
   "execution_count": 6,
   "metadata": {},
   "outputs": [
    {
     "name": "stdout",
     "output_type": "stream",
     "text": [
      "The fictorial of 5 is 120\n"
     ]
    }
   ],
   "source": [
    "def factorial(number):\n",
    "    if number < 0:\n",
    "        return \"Factorial is not defined for negative numbers.\"\n",
    "    elif number == 0 or number == 1:\n",
    "        return 1    \n",
    "    else:\n",
    "        return number * factorial(number - 1)\n",
    "    \n",
    "number = int(input(\"Enter a number: \"))\n",
    "print(f\"The fictorial of {number} is {factorial(number)}\")"
   ]
  },
  {
   "cell_type": "markdown",
   "metadata": {},
   "source": [
    "3. Python program to find the largest number in a list."
   ]
  },
  {
   "cell_type": "code",
   "execution_count": 12,
   "metadata": {},
   "outputs": [
    {
     "data": {
      "text/plain": [
       "99"
      ]
     },
     "execution_count": 12,
     "metadata": {},
     "output_type": "execute_result"
    }
   ],
   "source": [
    "numbers = [3, 99, 10, 8, 45 ]\n",
    "                 \n",
    "                 \n",
    "def find_largest(numbers):\n",
    "    if not numbers:\n",
    "        return \"The list is empty\"\n",
    "    \n",
    "    largest=numbers[0]\n",
    "    for number in numbers: \n",
    "        if number > largest:\n",
    "            largest=number\n",
    "    return largest\n",
    "    \n",
    "find_largest(numbers)"
   ]
  },
  {
   "cell_type": "markdown",
   "metadata": {},
   "source": [
    "4. Python program to find the sum and average of elements in a list."
   ]
  },
  {
   "cell_type": "code",
   "execution_count": 13,
   "metadata": {},
   "outputs": [
    {
     "name": "stdout",
     "output_type": "stream",
     "text": [
      "Total sum 22 and average 4.4 \n"
     ]
    }
   ],
   "source": [
    "# Initialized list\n",
    "numbers = [3, 5, 2, 8, 4]\n",
    "\n",
    "def calculate_sum_average(numbers):\n",
    "    if not numbers: \n",
    "        return \"The list is empty\"\n",
    "    \n",
    "    total_sum = sum(numbers)\n",
    "    average = total_sum/len(numbers)\n",
    "    return total_sum, average\n",
    "\n",
    "total_sum, average = calculate_sum_average(numbers)\n",
    "print(f\"Total sum {total_sum} and average {average} \")"
   ]
  },
  {
   "cell_type": "markdown",
   "metadata": {},
   "source": [
    "5. Python program to print the elements of a list in reverse order."
   ]
  },
  {
   "cell_type": "code",
   "execution_count": 17,
   "metadata": {},
   "outputs": [
    {
     "name": "stdout",
     "output_type": "stream",
     "text": [
      "The elements in reverse order are:\n",
      "4 8 2 5 3 "
     ]
    }
   ],
   "source": [
    "# Initialized list\n",
    "numbers = [3, 5, 2, 8, 4]\n",
    "\n",
    "def print_numbers(numbers):\n",
    "    for number in reversed(numbers):\n",
    "        print(number, end=\" \")\n",
    "    \n",
    "print(\"The elements in reverse order are:\")    \n",
    "print_numbers(numbers)"
   ]
  },
  {
   "cell_type": "markdown",
   "metadata": {},
   "source": [
    "6. Python program to remove duplicate elements from a list."
   ]
  },
  {
   "cell_type": "code",
   "execution_count": 20,
   "metadata": {},
   "outputs": [
    {
     "name": "stdout",
     "output_type": "stream",
     "text": [
      "List after removing duplicates: [2, 3, 4, 5, 8]\n"
     ]
    }
   ],
   "source": [
    "# Initialized list with duplicates\n",
    "numbers = [3, 5, 2, 8, 4, 3, 2, 8]\n",
    "\n",
    "\n",
    "def remove_duplicates(numbers):\n",
    "    unique_numbers = list(set(numbers))\n",
    "    return unique_numbers\n",
    "\n",
    "unique_numbers = remove_duplicates(numbers)\n",
    "print(\"List after removing duplicates:\", unique_numbers)\n"
   ]
  },
  {
   "cell_type": "code",
   "execution_count": 21,
   "metadata": {},
   "outputs": [
    {
     "data": {
      "text/plain": [
       "[3, 5, 2, 8, 4]"
      ]
     },
     "execution_count": 21,
     "metadata": {},
     "output_type": "execute_result"
    }
   ],
   "source": [
    "def remove_duplicates_preserve_order(numbers):\n",
    "    unique_list = []\n",
    "    for number in numbers:\n",
    "        if number not in unique_list:\n",
    "            unique_list.append(number)\n",
    "    return unique_list\n",
    "remove_duplicates_preserve_order(numbers)"
   ]
  },
  {
   "cell_type": "markdown",
   "metadata": {},
   "source": [
    "7. Python program to check if a character is a vowel or consonant."
   ]
  },
  {
   "cell_type": "code",
   "execution_count": 24,
   "metadata": {},
   "outputs": [
    {
     "name": "stdout",
     "output_type": "stream",
     "text": [
      "The char c is consonant\n"
     ]
    }
   ],
   "source": [
    "def check_vowel_consonant(char):\n",
    "    vowels = 'aeiouAEIOU'\n",
    "    if len(char) !=1 or not char.isalpha():\n",
    "        return \"Please enter a single alphabetical character.\"\n",
    "    \n",
    "    if char in vowels:\n",
    "        return (f\"The char {char} is vowel\")\n",
    "    else:\n",
    "        return (f\"The char {char} is consonant\")\n",
    "\n",
    "character = input(\"Enter a character: \")\n",
    "result = check_vowel_consonant(character)\n",
    "print(result)\n"
   ]
  },
  {
   "cell_type": "markdown",
   "metadata": {},
   "source": [
    "8. Python program to check if a string is a palindrome."
   ]
  },
  {
   "cell_type": "code",
   "execution_count": 30,
   "metadata": {},
   "outputs": [
    {
     "name": "stdout",
     "output_type": "stream",
     "text": [
      "A man a plan a canal Panama is a palindrome.\n"
     ]
    }
   ],
   "source": [
    "def is_palindrome(text):\n",
    "    text = text.lower().replace(\" \",\"\")\n",
    "    return text==text[::-1]\n",
    "\n",
    "text = \"A man a plan a canal Panama\"\n",
    "if is_palindrome(text):\n",
    "    print(f\"{text} is a palindrome.\")\n",
    "else:\n",
    "    print(f\"{text} is not a palindrome.\")\n",
    "   "
   ]
  },
  {
   "cell_type": "markdown",
   "metadata": {},
   "source": [
    "9. Python program to find the second largest element in a list"
   ]
  },
  {
   "cell_type": "code",
   "execution_count": 33,
   "metadata": {},
   "outputs": [
    {
     "name": "stdout",
     "output_type": "stream",
     "text": [
      "The second largest number in the list is : 8\n"
     ]
    }
   ],
   "source": [
    "# Initialized list\n",
    "numbers = [3, 9, 2, 8, 4, 8]\n",
    "\n",
    "def second_largest_element(numbers):\n",
    "    unique_numbers = list(set(numbers))\n",
    "    \n",
    "    if len(unique_numbers) < 2:\n",
    "        return \"There is no second largest element.\"\n",
    "    \n",
    "    unique_numbers.sort(reverse=True)\n",
    "    \n",
    "    return unique_numbers[1]\n",
    "\n",
    "second_largest = second_largest_element(numbers) \n",
    "print(f\"The second largest number in the list is : {second_largest}\")   "
   ]
  },
  {
   "cell_type": "markdown",
   "metadata": {},
   "source": [
    "10. Python program to implement a function for finding the GCD (Greatest Common Divisor) of two numbers."
   ]
  },
  {
   "cell_type": "code",
   "execution_count": 35,
   "metadata": {},
   "outputs": [
    {
     "name": "stdout",
     "output_type": "stream",
     "text": [
      "The GCD of 48 and 18 is: 6\n"
     ]
    }
   ],
   "source": [
    "\n",
    "def gcd(a,b):\n",
    "    while b:\n",
    "        a, b = b, a%b\n",
    "    return a\n",
    "\n",
    "num1 = int(input(\"Enter the first number:\"))\n",
    "num2 = int(input(\"Enter the second number:\"))\n",
    "\n",
    "result = gcd(num1,num2)\n",
    "print(f\"The GCD of {num1} and {num2} is: {result}\")\n"
   ]
  },
  {
   "cell_type": "markdown",
   "metadata": {},
   "source": [
    "11. Python program to find Prime Numbers"
   ]
  },
  {
   "cell_type": "code",
   "execution_count": 42,
   "metadata": {},
   "outputs": [
    {
     "name": "stdout",
     "output_type": "stream",
     "text": [
      "Prime numbers up to 30 are [2, 3, 5, 7, 11, 13, 17, 19, 23, 29]\n"
     ]
    }
   ],
   "source": [
    "def isPrime(n):\n",
    "    if n<=1:\n",
    "        return False\n",
    "    for i in range (2,int(n**0.5)+1):\n",
    "        if n % i==0:\n",
    "            return False\n",
    "    return True\n",
    "\n",
    "def find_prime_numbers(limit):\n",
    "    \"\"\"Return a list of prime numbers up to a given limit.\"\"\"\n",
    "    return [n for n in range(2,limit+1) if isPrime(n)]\n",
    "\n",
    "limit = int(input(\"Enter the upper limit to find prime numbers: \"))\n",
    "# Find and print prime numbers\n",
    "prime_numbers = find_prime_numbers(limit)\n",
    "print(f\"Prime numbers up to {limit} are {prime_numbers}\")\n",
    "\n"
   ]
  },
  {
   "cell_type": "markdown",
   "metadata": {},
   "source": [
    "12. Python program to check for Pangram"
   ]
  },
  {
   "cell_type": "markdown",
   "metadata": {},
   "source": [
    "A pangram is a sentence that contains every letter of the alphabet at least once. Here's a Python program to check if a given sentence is a pangram:"
   ]
  },
  {
   "cell_type": "code",
   "execution_count": 43,
   "metadata": {},
   "outputs": [
    {
     "name": "stdout",
     "output_type": "stream",
     "text": [
      "The sentence is a pangram.\n"
     ]
    }
   ],
   "source": [
    "def is_pangram(sentence):\n",
    "   \"\"\"Check if a sentence is a pangram.\"\"\"\n",
    "   alphabet_set = set('abcdefghijklmnopqrstuvwxyz')\n",
    "   sentence_set = set(sentence.lower())\n",
    "   return alphabet_set <= sentence_set\n",
    "   \n",
    "   \n",
    "user_input = input(\"Enter a sentence :\")\n",
    "\n",
    "if is_pangram(user_input):\n",
    "     print(\"The sentence is a pangram.\")\n",
    "else:\n",
    "    print(\"The sentence is not a pangram.\")\n",
    "\n"
   ]
  },
  {
   "cell_type": "markdown",
   "metadata": {},
   "source": [
    "13. Python program to Merge Two Sorted Lists?"
   ]
  },
  {
   "cell_type": "code",
   "execution_count": 44,
   "metadata": {},
   "outputs": [
    {
     "name": "stdout",
     "output_type": "stream",
     "text": [
      "Merged sorted list: [1, 2, 3, 4, 5, 6, 7, 8]\n"
     ]
    }
   ],
   "source": [
    "def merge_sorted_lists(list1, list2):\n",
    "    \n",
    "    return sorted(list1 + list2)\n",
    "\n",
    "\n",
    "# Example usage\n",
    "list1 = [1, 3, 5, 7]\n",
    "list2 = [2, 4, 6, 8]\n",
    "\n",
    "merged = merge_sorted_lists(list1, list2)\n",
    "print(\"Merged sorted list:\", merged)"
   ]
  },
  {
   "cell_type": "markdown",
   "metadata": {},
   "source": [
    "14. Python program to Remove Duplicates from a String"
   ]
  },
  {
   "cell_type": "code",
   "execution_count": 45,
   "metadata": {},
   "outputs": [
    {
     "name": "stdout",
     "output_type": "stream",
     "text": [
      "String after removing duplicates: progamin\n"
     ]
    }
   ],
   "source": [
    "def remove_duplicates(input_string):\n",
    "    result=\"\"\n",
    "    for char in input_string:\n",
    "        if char not in result:\n",
    "            result+=char\n",
    "    return result\n",
    "\n",
    "# Example usage\n",
    "user_input = input(\"Enter a string: \")    \n",
    "result_string = remove_duplicates(user_input)\n",
    "print(\"String after removing duplicates:\", result_string)"
   ]
  },
  {
   "cell_type": "markdown",
   "metadata": {},
   "source": [
    "15. Python program to Find Maximum Difference between Two Elements in a List?"
   ]
  },
  {
   "cell_type": "code",
   "execution_count": 47,
   "metadata": {},
   "outputs": [
    {
     "data": {
      "text/plain": [
       "8"
      ]
     },
     "execution_count": 47,
     "metadata": {},
     "output_type": "execute_result"
    }
   ],
   "source": [
    "def max_difference(nums):    \n",
    "    if len(nums)<2:\n",
    "        return 0\n",
    "    \n",
    "    min_element = nums[0]\n",
    "    max_diff = 0\n",
    "    \n",
    "    for num in nums[1:]:\n",
    "        current_diff = num - min_element\n",
    "        max_diff = max(max_diff, current_diff)\n",
    "        min_element = min(min_element,num)\n",
    "    return max_diff\n",
    "# Example usage\n",
    "nums = [2, 3, 10, 6, 4, 8, 1]\n",
    "max_difference(nums)"
   ]
  },
  {
   "cell_type": "markdown",
   "metadata": {},
   "source": [
    "16. Python program to Reverse Words in a String?"
   ]
  },
  {
   "cell_type": "code",
   "execution_count": 48,
   "metadata": {},
   "outputs": [
    {
     "name": "stdout",
     "output_type": "stream",
     "text": [
      "Python is this world Hello\n"
     ]
    }
   ],
   "source": [
    "def reverse_words(sentence):\n",
    "    words = sentence.split()\n",
    "    reversed_sentence = ' '.join(reversed(words))\n",
    "    return reversed_sentence\n",
    "\n",
    "sentence = input(\"Enter the sentence:\")\n",
    "reversed_sentence = reverse_words(sentence)\n",
    "print(reversed_sentence)"
   ]
  },
  {
   "cell_type": "markdown",
   "metadata": {},
   "source": [
    "17. Reverse a string"
   ]
  },
  {
   "cell_type": "code",
   "execution_count": 50,
   "metadata": {},
   "outputs": [
    {
     "name": "stdout",
     "output_type": "stream",
     "text": [
      "Reversed string: olleh\n"
     ]
    }
   ],
   "source": [
    "def reverse_string(s):\n",
    "    return s[::-1]\n",
    "\n",
    "# Example usage\n",
    "text = \"hello\"\n",
    "print(\"Reversed string:\", reverse_string(text))"
   ]
  },
  {
   "cell_type": "markdown",
   "metadata": {},
   "source": [
    "18. Swap two numbers without using third variable"
   ]
  },
  {
   "cell_type": "code",
   "execution_count": 52,
   "metadata": {},
   "outputs": [
    {
     "name": "stdout",
     "output_type": "stream",
     "text": [
      "Before swaping\n",
      "a :15 b :10\n",
      "After swaping\n",
      "a :10 b :15\n"
     ]
    }
   ],
   "source": [
    "def swap_numbers(a, b):\n",
    "    \"\"\"Swap two numbers without using a third variable.\"\"\"\n",
    "    a = a + b\n",
    "    b = a - b\n",
    "    a = a - b\n",
    "    return a,b\n",
    "\n",
    "a= 15\n",
    "b= 10\n",
    "print(\"Before swaping\")\n",
    "print(f\"a :{a} b :{b}\")\n",
    "a, b = swap_numbers(a,b)\n",
    "print(\"After swaping\")\n",
    "print(f\"a :{a} b :{b}\")"
   ]
  },
  {
   "cell_type": "markdown",
   "metadata": {},
   "source": [
    "19. Python program to check if a string contains a specific substring.\n"
   ]
  },
  {
   "cell_type": "code",
   "execution_count": 55,
   "metadata": {},
   "outputs": [
    {
     "name": "stdout",
     "output_type": "stream",
     "text": [
      "the is not present in This is a string\n"
     ]
    }
   ],
   "source": [
    "text = \"This is a string\"\n",
    "sub_string =\"the\"\n",
    "if sub_string in text:\n",
    "    print(f\"{sub_string} is present in {text}\")\n",
    "else:\n",
    "    print(f\"{sub_string} is not present in {text}\")\n",
    "\n"
   ]
  },
  {
   "cell_type": "markdown",
   "metadata": {},
   "source": [
    "20. Filter elements from a list based on a condition:"
   ]
  },
  {
   "cell_type": "code",
   "execution_count": 56,
   "metadata": {},
   "outputs": [
    {
     "name": "stdout",
     "output_type": "stream",
     "text": [
      "[2, 4, 6]\n"
     ]
    }
   ],
   "source": [
    "numbers = [1, 2, 3, 4, 5, 6]\n",
    "even_numbers = [num for num in numbers if num%2==0]\n",
    "print(even_numbers)"
   ]
  },
  {
   "cell_type": "code",
   "execution_count": 58,
   "metadata": {},
   "outputs": [
    {
     "name": "stdout",
     "output_type": "stream",
     "text": [
      "1964\n"
     ]
    }
   ],
   "source": [
    "dict = {\n",
    "  \"brand\": \"Ford\",\n",
    "  \"model\": \"Mustang\",\n",
    "  \"year\": 1964\n",
    "}\n",
    "print(dict['year'])"
   ]
  },
  {
   "cell_type": "markdown",
   "metadata": {},
   "source": [
    "21. Python program to iterate over a dictionary and perform operations on key-value pairs."
   ]
  },
  {
   "cell_type": "code",
   "execution_count": 59,
   "metadata": {},
   "outputs": [
    {
     "name": "stdout",
     "output_type": "stream",
     "text": [
      "apple : 2\n",
      "banana : 3\n",
      "cherry : 1\n",
      "Total quantity: 6\n"
     ]
    }
   ],
   "source": [
    "fruits = {\"apple\": 2, \"banana\": 3, \"cherry\": 1}\n",
    "\n",
    "total_quantity=0\n",
    "\n",
    "for fruit,quantity in fruits.items():\n",
    "    print(f\"{fruit} : {quantity}\")\n",
    "    total_quantity+=quantity\n",
    "print(f\"Total quantity: {total_quantity}\")"
   ]
  },
  {
   "cell_type": "markdown",
   "metadata": {},
   "source": [
    "22. Python program to sort a list in ascending or descending order."
   ]
  },
  {
   "cell_type": "code",
   "execution_count": null,
   "metadata": {},
   "outputs": [
    {
     "name": "stdout",
     "output_type": "stream",
     "text": [
      "[1, 2, 4, 5, 8]\n",
      "[8, 5, 4, 2, 1]\n"
     ]
    }
   ],
   "source": [
    "numbers = [5, 2, 8, 1, 4]\n",
    "sorted_numbers = sorted(numbers)\n",
    "reverse_sorted_numbers = sorted(numbers,reverse=True)\n",
    "\n",
    "print(sorted_numbers)\n",
    "print(reverse_sorted_numbers)"
   ]
  },
  {
   "cell_type": "markdown",
   "metadata": {},
   "source": [
    "23. Write two Python programs, one using a loop and another using list comprehension, to achieve the same functionality of squaring all the elements in a list.\n"
   ]
  },
  {
   "cell_type": "code",
   "execution_count": 63,
   "metadata": {},
   "outputs": [
    {
     "name": "stdout",
     "output_type": "stream",
     "text": [
      "[1, 4, 9, 16, 25]\n"
     ]
    }
   ],
   "source": [
    "def sqaure_list_loop(numbers):\n",
    "    squared_numbers=[]\n",
    "    for num in numbers:\n",
    "        squared_numbers.append(num*num)\n",
    "    return squared_numbers\n",
    "\n",
    "# Example usage\n",
    "\n",
    "numbers = [1, 2, 3, 4, 5]\n",
    "squared_numbers_list = sqaure_list_loop(numbers)\n",
    "print(squared_numbers_list)"
   ]
  },
  {
   "cell_type": "markdown",
   "metadata": {},
   "source": [
    "24. Python program to Count Vowels in a String."
   ]
  },
  {
   "cell_type": "code",
   "execution_count": 64,
   "metadata": {},
   "outputs": [
    {
     "name": "stdout",
     "output_type": "stream",
     "text": [
      "Number of vowels in the string: 3\n"
     ]
    }
   ],
   "source": [
    "def count_vowels(s):\n",
    "    vowels = \"aeiouAEIOU\"\n",
    "    count = 0\n",
    "    for char in s:\n",
    "        if char in vowels:\n",
    "            count += 1\n",
    "    return count\n",
    "\n",
    "# Example usage\n",
    "input_string = \"Hello, World!\"\n",
    "vowel_count = count_vowels(input_string)\n",
    "print(\"Number of vowels in the string:\", vowel_count)\n"
   ]
  },
  {
   "cell_type": "markdown",
   "metadata": {},
   "source": [
    "25. Write a Python program to find Fibonacci Sequence."
   ]
  },
  {
   "cell_type": "code",
   "execution_count": 65,
   "metadata": {},
   "outputs": [
    {
     "name": "stdout",
     "output_type": "stream",
     "text": [
      "Fibonacci sequence up to 10 terms: [0, 1, 1, 2, 3, 5, 8, 13, 21, 34]\n"
     ]
    }
   ],
   "source": [
    "def fibonacci(n):\n",
    "    fib_sequence=[0,1]\n",
    "    for i in range(2,n):\n",
    "        next_term=fib_sequence[-1]+fib_sequence[-2]\n",
    "        fib_sequence.append(next_term)\n",
    "    return fib_sequence\n",
    "\n",
    "# Example usage\n",
    "num_terms = 10\n",
    "fib_sequence = fibonacci(num_terms)\n",
    "print(\"Fibonacci sequence up to\", num_terms, \"terms:\", fib_sequence)\n"
   ]
  },
  {
   "cell_type": "markdown",
   "metadata": {},
   "source": [
    "26. Write a Python program to find the Maximum Element in a List."
   ]
  },
  {
   "cell_type": "code",
   "execution_count": 66,
   "metadata": {},
   "outputs": [
    {
     "name": "stdout",
     "output_type": "stream",
     "text": [
      "Maximum element in the list: 89\n"
     ]
    }
   ],
   "source": [
    "# Example list\n",
    "my_list = [10, 23, 45, 67, 12, 89, 34]\n",
    "\n",
    "# Find maximum element\n",
    "max_element = max(my_list)\n",
    "\n",
    "print(\"Maximum element in the list:\", max_element)\n"
   ]
  },
  {
   "cell_type": "markdown",
   "metadata": {},
   "source": [
    "27. Write a Python program to find Anagram Check."
   ]
  },
  {
   "cell_type": "code",
   "execution_count": 67,
   "metadata": {},
   "outputs": [
    {
     "name": "stdout",
     "output_type": "stream",
     "text": [
      "'Listen' and 'Silent' are anagrams.\n"
     ]
    }
   ],
   "source": [
    "def is_anagram(str1,str2):\n",
    "    str1 = str1.replace(\" \",\"\").lower()\n",
    "    str2 = str2.replace(\" \",\"\").lower()\n",
    "    return sorted(str1)==sorted(str2)\n",
    "\n",
    "string1=\"Listen\"\n",
    "string2=\"Silent\"\n",
    "is_anagram(string1,string2)\n",
    "if is_anagram(string1, string2):\n",
    "    print(f\"'{string1}' and '{string2}' are anagrams.\")\n",
    "else:\n",
    "    print(f\"'{string1}' and '{string2}' are not anagrams.\")"
   ]
  },
  {
   "cell_type": "markdown",
   "metadata": {},
   "source": [
    "28. Write a Python program to calculate the Sum of Digits in a Number."
   ]
  },
  {
   "cell_type": "code",
   "execution_count": 68,
   "metadata": {},
   "outputs": [
    {
     "name": "stdout",
     "output_type": "stream",
     "text": [
      "The sum of 12345 is 15\n"
     ]
    }
   ],
   "source": [
    "def sum_of_digits(number):\n",
    "    num_str=str(number)\n",
    "    \n",
    "    digit_sum=0\n",
    "    for num in num_str:\n",
    "        digit_sum += int(num)\n",
    "    return digit_sum\n",
    "\n",
    "input_number = 12345\n",
    "total_sum = sum_of_digits(input_number)\n",
    "print(f\"The sum of {input_number} is {total_sum}\")"
   ]
  },
  {
   "cell_type": "markdown",
   "metadata": {},
   "source": [
    "29. Python program to reverse a number using logic without relying on built-in functions."
   ]
  },
  {
   "cell_type": "code",
   "execution_count": 71,
   "metadata": {},
   "outputs": [
    {
     "name": "stdout",
     "output_type": "stream",
     "text": [
      "Reversed number: 4321\n"
     ]
    }
   ],
   "source": [
    "def reverse_number(num):\n",
    "    \"\"\"Reverse the digits of a number.\"\"\"\n",
    "    reversed_num=0\n",
    "    while num > 0:\n",
    "        digit = num % 10    # Extract the last digit\n",
    "        reversed_num = reversed_num*10 + digit  # Add it to the reversed number\n",
    "        num = num//10  # Remove the last digit from the original number\n",
    "    return reversed_num\n",
    "\n",
    " #Example usage\n",
    "number = int(input(\"Enter a number: \"))\n",
    "reversed_number = reverse_number(number)\n",
    "print(f\"Reversed number: {reversed_number}\")\n",
    "        "
   ]
  },
  {
   "cell_type": "code",
   "execution_count": 72,
   "metadata": {},
   "outputs": [
    {
     "data": {
      "text/plain": [
       "123"
      ]
     },
     "execution_count": 72,
     "metadata": {},
     "output_type": "execute_result"
    }
   ],
   "source": [
    "1234//10"
   ]
  },
  {
   "cell_type": "code",
   "execution_count": 70,
   "metadata": {},
   "outputs": [
    {
     "data": {
      "text/plain": [
       "4"
      ]
     },
     "execution_count": 70,
     "metadata": {},
     "output_type": "execute_result"
    }
   ],
   "source": [
    "1234%10"
   ]
  },
  {
   "cell_type": "markdown",
   "metadata": {},
   "source": [
    "# OOP"
   ]
  },
  {
   "cell_type": "markdown",
   "metadata": {},
   "source": [
    "1. `Class and Object`\n",
    "   - `A class is a blueprint for creating objects.`\n",
    "   - `An object is an instance of a class.`"
   ]
  },
  {
   "cell_type": "code",
   "execution_count": null,
   "metadata": {},
   "outputs": [],
   "source": [
    "# Defining a class\n",
    "class Dog:\n",
    "    def __init__(self, name, breed):\n",
    "        self.name = name  # Attribute\n",
    "        self.breed = breed\n",
    "\n",
    "    def bark(self):  # Method\n",
    "        print(f\"{self.name} says Woof!\")\n",
    "\n",
    "# Creating an object\n",
    "my_dog = Dog(\"Buddy\", \"Golden Retriever\")\n",
    "print(my_dog.name)  # Accessing attribute\n",
    "my_dog.bark()  # Calling method\n"
   ]
  },
  {
   "cell_type": "markdown",
   "metadata": {},
   "source": [
    "2. `Encapsulation`\n",
    "   \n",
    "   `Encapsulation is a way to bundle data (attributes) and the methods (functions) that operate on that data into a single unit, typically a class. It restricts direct access to some of the object's components, meaning that you can control what data can be accessed or modified. This ensures data security and integrity.`\n",
    "\n",
    "`In Python, encapsulation is achieved using access modifiers:`\n",
    "\n",
    "   - `Public: Accessible from anywhere.`\n",
    "   - `Protected (single underscore _): Indicates internal use but can still be accessed.`\n",
    "   - `Private (double underscore __): Strongly restricts access from outside the class.`\n",
    "\n",
    "`Key Benefits`\n",
    "   - `Protecting Data: Prevents accidental modification of critical data.`\n",
    "   - `Controlled Access: Uses getter and setter methods to control access to private variables.`"
   ]
  },
  {
   "cell_type": "markdown",
   "metadata": {},
   "source": [
    "Without Encapsulation"
   ]
  },
  {
   "cell_type": "code",
   "execution_count": null,
   "metadata": {},
   "outputs": [],
   "source": [
    "class BankAccount:\n",
    "    def __init__(self, balance):\n",
    "        self.balance = balance  # Public attribute\n",
    "\n",
    "# Anyone can modify the balance directly\n",
    "account = BankAccount(1000)\n",
    "print(account.balance)  # Access balance directly\n",
    "\n",
    "account.balance = -500  # Invalid modification!\n",
    "print(account.balance)  # Prints -500 (incorrect state)\n"
   ]
  },
  {
   "cell_type": "markdown",
   "metadata": {},
   "source": [
    "With Encapsulation"
   ]
  },
  {
   "cell_type": "code",
   "execution_count": null,
   "metadata": {},
   "outputs": [],
   "source": [
    "class BankAccount:\n",
    "    def __init__(self, balance):\n",
    "        self.__balance = balance  # Private attribute\n",
    "\n",
    "    # Getter method to access private balance\n",
    "    def get_balance(self):\n",
    "        return self.__balance\n",
    "\n",
    "    # Setter method to modify balance with checks\n",
    "    def set_balance(self, amount):\n",
    "        if amount >= 0:\n",
    "            self.__balance = amount\n",
    "        else:\n",
    "            print(\"Invalid balance amount!\")\n",
    "\n",
    "# Using encapsulated class\n",
    "account = BankAccount(1000)\n",
    "print(account.get_balance())  # Access balance safely\n",
    "\n",
    "account.set_balance(1500)  # Modify balance safely\n",
    "print(account.get_balance())\n",
    "\n",
    "account.set_balance(-500)  # Invalid modification prevented\n"
   ]
  },
  {
   "cell_type": "markdown",
   "metadata": {},
   "source": [
    "- __balance: Made private with __ so it cannot be accessed directly from outside.\n",
    "- get_balance(): Provides read-only access to the private variable.\n",
    "- set_balance(): Allows modifications only if the value is valid."
   ]
  },
  {
   "cell_type": "markdown",
   "metadata": {},
   "source": [
    "3. `Inheritance`\n",
    "   \n",
    "   `Inheritance is a mechanism in OOP where one class (child class) can inherit properties and behaviors (methods) from another class (parent class). It allows code reuse and supports creating hierarchical relationships between classes.`\n",
    "   `Key Benefits of Inheritance`\n",
    "   \n",
    "   `Code Reuse: Share common functionality between classes.`\n",
    "\n",
    "   `Extensibility: Modify or extend the behavior of the parent class in the child class.`\n",
    "   \n",
    "   `Organization: Helps create a structured hierarchy of classes.`\n",
    "\n",
    "   Types of Inheritance:\n",
    "  - `Single:` One parent, one child.\n",
    "  - `Multilevel:` A chain of inheritance.\n",
    "  - `Multiple:` Inherits from multiple parent classes."
   ]
  },
  {
   "cell_type": "markdown",
   "metadata": {},
   "source": [
    "Example 1: Basic Inheritance"
   ]
  },
  {
   "cell_type": "code",
   "execution_count": null,
   "metadata": {},
   "outputs": [],
   "source": [
    "# Parent class\n",
    "class Animal:\n",
    "    def eat(self):\n",
    "        print(\"This animal eats food.\")\n",
    "\n",
    "# Child class\n",
    "class Dog(Animal):  # Inherit from Animal\n",
    "    def bark(self):\n",
    "        print(\"This dog barks!\")\n",
    "\n",
    "# Creating objects\n",
    "animal = Animal()\n",
    "animal.eat()  # Accessing parent class method\n",
    "\n",
    "dog = Dog()\n",
    "dog.eat()  # Inherited method\n",
    "dog.bark()  # Child class's own method\n"
   ]
  },
  {
   "cell_type": "markdown",
   "metadata": {},
   "source": [
    "Example 2: Overriding a Parent Method\n",
    "\n",
    "The child class can provide its own implementation for a method in the parent class."
   ]
  },
  {
   "cell_type": "code",
   "execution_count": null,
   "metadata": {},
   "outputs": [],
   "source": [
    "class Animal:\n",
    "    def sound(self):\n",
    "        print(\"Animals make different sounds.\")\n",
    "\n",
    "class Dog(Animal):\n",
    "    def sound(self):  # Overriding the parent method\n",
    "        print(\"Dogs bark.\")\n",
    "\n",
    "# Creating objects\n",
    "generic_animal = Animal()\n",
    "generic_animal.sound()\n",
    "\n",
    "dog = Dog()\n",
    "dog.sound()  # Calls overridden method\n"
   ]
  },
  {
   "cell_type": "markdown",
   "metadata": {},
   "source": [
    "Example 3: Accessing the Parent Class\n",
    "\n",
    "You can explicitly call the parent class’s methods using the super() function."
   ]
  },
  {
   "cell_type": "code",
   "execution_count": null,
   "metadata": {},
   "outputs": [],
   "source": [
    "class Animal:\n",
    "    def sound(self):\n",
    "        print(\"Animals make sounds.\")\n",
    "\n",
    "class Dog(Animal):\n",
    "    def sound(self):\n",
    "        super().sound()  # Call the parent class's method\n",
    "        print(\"Dogs bark.\")\n",
    "\n",
    "# Creating an object\n",
    "dog = Dog()\n",
    "dog.sound()\n"
   ]
  },
  {
   "cell_type": "markdown",
   "metadata": {},
   "source": [
    "Example 4: Multilevel Inheritance\n",
    "\n",
    "A class can inherit from another class, which itself inherits from another class."
   ]
  },
  {
   "cell_type": "code",
   "execution_count": null,
   "metadata": {},
   "outputs": [],
   "source": [
    "class Animal:\n",
    "    def eat(self):\n",
    "        print(\"This animal eats food.\")\n",
    "\n",
    "class Mammal(Animal):  # Inherit from Animal\n",
    "    def walk(self):\n",
    "        print(\"This mammal walks.\")\n",
    "\n",
    "class Dog(Mammal):  # Inherit from Mammal\n",
    "    def bark(self):\n",
    "        print(\"This dog barks!\")\n",
    "\n",
    "# Creating an object\n",
    "dog = Dog()\n",
    "dog.eat()  # From Animal\n",
    "dog.walk()  # From Mammal\n",
    "dog.bark()  # From Dog\n"
   ]
  },
  {
   "cell_type": "markdown",
   "metadata": {},
   "source": [
    "Example 5: Multiple Inheritance\n",
    "\n",
    "A child class can inherit from multiple parent classes."
   ]
  },
  {
   "cell_type": "code",
   "execution_count": null,
   "metadata": {},
   "outputs": [],
   "source": [
    "class Flyer:\n",
    "    def fly(self):\n",
    "        print(\"This animal can fly.\")\n",
    "\n",
    "class Swimmer:\n",
    "    def swim(self):\n",
    "        print(\"This animal can swim.\")\n",
    "\n",
    "class Duck(Flyer, Swimmer):  # Inherit from both Flyer and Swimmer\n",
    "    def quack(self):\n",
    "        print(\"This duck quacks!\")\n",
    "\n",
    "# Creating an object\n",
    "duck = Duck()\n",
    "duck.fly()  # From Flyer\n",
    "duck.swim()  # From Swimmer\n",
    "duck.quack()  # From Duck\n"
   ]
  },
  {
   "cell_type": "markdown",
   "metadata": {},
   "source": [
    "4. `Polymorphism`\n",
    "\n",
    "   `Polymorphism means \"many forms\". In programming, it refers to the ability of different objects to respond to the same method or operation in their own unique way.`"
   ]
  },
  {
   "cell_type": "markdown",
   "metadata": {},
   "source": [
    "Example 1: Polymorphism with Method Overriding\n",
    "\n",
    "When a child class redefines a method from the parent class."
   ]
  },
  {
   "cell_type": "code",
   "execution_count": null,
   "metadata": {},
   "outputs": [],
   "source": [
    "class Animal:\n",
    "    def sound(self):\n",
    "        print(\"Animals make different sounds.\")\n",
    "\n",
    "class Dog(Animal):\n",
    "    def sound(self):  # Overriding the parent method\n",
    "        print(\"Dogs bark.\")\n",
    "\n",
    "class Cat(Animal):\n",
    "    def sound(self):  # Overriding the parent method\n",
    "        print(\"Cats meow.\")\n",
    "\n",
    "# Using polymorphism\n",
    "for animal in [Dog(), Cat()]:\n",
    "    animal.sound()  # Same method behaves differently based on the object\n"
   ]
  },
  {
   "cell_type": "markdown",
   "metadata": {},
   "source": [
    "5. `Abstraction`\n",
    "   \n",
    "   `Abstraction hides implementation details and only shows essential features. In Python, achieved using abstract base classes (abc module).`"
   ]
  },
  {
   "cell_type": "code",
   "execution_count": null,
   "metadata": {},
   "outputs": [],
   "source": [
    "from abc import ABC, abstractmethod\n",
    "\n",
    "class Animal(ABC):\n",
    "    @abstractmethod\n",
    "    def sound(self):\n",
    "        pass  # Abstract method\n",
    "\n",
    "class Dog(Animal):\n",
    "    def sound(self):\n",
    "        print(\"Woof!\")\n",
    "\n",
    "class Cat(Animal):\n",
    "    def sound(self):\n",
    "        print(\"Meow!\")\n",
    "\n",
    "# Creating objects\n",
    "dog = Dog()\n",
    "dog.sound()\n",
    "\n",
    "cat = Cat()\n",
    "cat.sound()\n"
   ]
  },
  {
   "cell_type": "markdown",
   "metadata": {},
   "source": [
    "6. `Method Overriding`\n",
    "   \n",
    "   `A child class can override a method from the parent class.`"
   ]
  },
  {
   "cell_type": "code",
   "execution_count": null,
   "metadata": {},
   "outputs": [],
   "source": [
    "class Parent:\n",
    "    def greet(self):\n",
    "        print(\"Hello from the parent!\")\n",
    "\n",
    "class Child(Parent):\n",
    "    def greet(self):  # Overriding method\n",
    "        print(\"Hello from the child!\")\n",
    "\n",
    "# Creating objects\n",
    "parent = Parent()\n",
    "parent.greet()\n",
    "\n",
    "child = Child()\n",
    "child.greet()\n"
   ]
  },
  {
   "cell_type": "markdown",
   "metadata": {},
   "source": [
    "7. `Constructor and Destructor`\n",
    "   \n",
    "   `Constructor (__init__): Initializes an object.`\n",
    "   \n",
    "   `Destructor (__del__): Cleans up resources when the object is deleted.`"
   ]
  },
  {
   "cell_type": "code",
   "execution_count": null,
   "metadata": {},
   "outputs": [],
   "source": [
    "class Example:\n",
    "    def __init__(self):\n",
    "        print(\"Constructor called!\")\n",
    "\n",
    "    def __del__(self):\n",
    "        print(\"Destructor called!\")\n",
    "\n",
    "# Creating and deleting an object\n",
    "obj = Example()\n",
    "del obj\n"
   ]
  }
 ],
 "metadata": {
  "kernelspec": {
   "display_name": "Python 3",
   "language": "python",
   "name": "python3"
  },
  "language_info": {
   "codemirror_mode": {
    "name": "ipython",
    "version": 3
   },
   "file_extension": ".py",
   "mimetype": "text/x-python",
   "name": "python",
   "nbconvert_exporter": "python",
   "pygments_lexer": "ipython3",
   "version": "3.12.2"
  }
 },
 "nbformat": 4,
 "nbformat_minor": 2
}
